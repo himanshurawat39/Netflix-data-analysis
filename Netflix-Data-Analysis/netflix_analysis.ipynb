{
 "cells": [
  {
   "cell_type": "code",
   "execution_count": null,
   "metadata": {},
   "outputs": [],
   "source": [
    "# Import Libraries\n",
    "import pandas as pd\n",
    "import numpy as np\n",
    "import matplotlib.pyplot as plt\n",
    "import seaborn as sns\n",
    "import plotly.express as px"
   ]
  },
  {
   "cell_type": "code",
   "execution_count": null,
   "metadata": {},
   "outputs": [],
   "source": [
    "# Load Dataset\n",
    "df = pd.read_csv(\"data/netflix_titles.csv\")"
   ]
  },
  {
   "cell_type": "code",
   "execution_count": null,
   "metadata": {},
   "outputs": [],
   "source": [
    "# Display basic info\n",
    "print(\"Dataset Overview:\")\n",
    "df.info()\n",
    "df.head()"
   ]
  },
  {
   "cell_type": "code",
   "execution_count": null,
   "metadata": {},
   "outputs": [],
   "source": [
    "# Handle missing values\n",
    "df.dropna(inplace=True)  # Removing rows with missing values"
   ]
  },
  {
   "cell_type": "code",
   "execution_count": null,
   "metadata": {},
   "outputs": [],
   "source": [
    "# Count of Movies vs TV Shows\n",
    "plt.figure(figsize=(6, 4))\n",
    "sns.countplot(data=df, x='type', palette='coolwarm')\n",
    "plt.title(\"Count of Movies vs TV Shows\")"
   ]
  },
  {
   "cell_type": "code",
   "execution_count": null,
   "metadata": {},
   "outputs": [],
   "source": [
    "# Trend of Content Release Over the Years\n",
    "plt.figure(figsize=(10, 5))\n",
    "df['release_year'].value_counts().sort_index().plot(kind='line', color='red')\n",
    "plt.title(\"Trend of Netflix Content Release Over the Years\")\n",
    "plt.xlabel(\"Year\")\n",
    "plt.ylabel(\"Number of Releases\")"
   ]
  },
  {
   "cell_type": "code",
   "execution_count": null,
   "metadata": {},
   "outputs": [],
   "source": [
    "# Most Common Genres\n",
    "genres = ', '.join(df['listed_in'].dropna()).split(', ')\n",
    "genre_counts = pd.Series(genres).value_counts().nlargest(10)\n",
    "plt.figure(figsize=(8, 4))\n",
    "genre_counts.plot(kind='bar', color='green')\n",
    "plt.title(\"Top 10 Most Common Genres on Netflix\")\n",
    "plt.xlabel(\"Genre\")\n",
    "plt.ylabel(\"Count\")\n",
    "plt.xticks(rotation=45)"
   ]
  },
  {
   "cell_type": "code",
   "execution_count": null,
   "metadata": {},
   "outputs": [],
   "source": [
    "# Country-wise Distribution of Content\n",
    "plt.figure(figsize=(10, 5))\n",
    "df['country'].value_counts().nlargest(10).plot(kind='bar', color='purple')\n",
    "plt.title(\"Top 10 Countries with Most Netflix Content\")\n",
    "plt.xlabel(\"Country\")\n",
    "plt.ylabel(\"Count\")\n",
    "plt.xticks(rotation=45)"
   ]
  },
  {
   "cell_type": "code",
   "execution_count": null,
   "metadata": {},
   "outputs": [],
   "source": [
    "# Save cleaned dataset\n",
    "df.to_csv(\"data/netflix_cleaned.csv\", index=False)\n",
    "\n",
    "print(\"\\nAnalysis Completed! The cleaned dataset is saved in 'data/netflix_cleaned.csv'\")"
   ]
  },
  {
   "cell_type": "code",
   "execution_count": null,
   "metadata": {},
   "outputs": [],
   "source": []
  }
 ],
 "metadata": {
  "kernelspec": {
   "display_name": "Python 3",
   "language": "python",
   "name": "python3"
  },
  "language_info": {
   "codemirror_mode": {
    "name": "ipython",
    "version": 3
   },
   "file_extension": ".py",
   "mimetype": "text/x-python",
   "name": "python",
   "nbconvert_exporter": "python",
   "pygments_lexer": "ipython3",
   "version": "3.13.1"
  }
 },
 "nbformat": 4,
 "nbformat_minor": 2
}
